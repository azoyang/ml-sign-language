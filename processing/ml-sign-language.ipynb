{
 "cells": [
  {
   "cell_type": "markdown",
   "metadata": {},
   "source": [
    "<img src=\"https://cursos.virtual.uniandes.edu.co/isis4219/wp-content/uploads/sites/162/2014/11/cropped-misisheader.png\" ><br>\n",
    "# Machine Learning Techniques - ISIS4219\n",
    "\n",
    "Intersemestral 2020\n",
    "\n",
    "## Proyecto lenguaje de señas\n",
    "\n",
    "### Integrantes:\n",
    "* Daisy Tatiana Macias\n",
    "* Dayana Romero\n",
    "* Juan José Villegas\n",
    "* Juan Sebastián Méndez"
   ]
  },
  {
   "cell_type": "markdown",
   "metadata": {},
   "source": [
    "# 0. Toma de datos"
   ]
  },
  {
   "cell_type": "markdown",
   "metadata": {},
   "source": [
    "Para la toma de datos, se hizo un programa en nodeJS que utiliza el modelo \"handpose\" de media pipe con tensor flow. Este programa nos permite, por medio de la cámara del computador, tomar las coordenadas de todos los _landmarks_ de la mano (más detalles en el diccionario), siendo mostradas en un cuadro de texto que luego era copiado y pegado a un archivo de excel. El código fuente está en el siguiente repositorio: https://github.com/jjr2040/ml-sign-language.\n",
    "\n",
    "<img src=\"./Images/TomaDatos.png\" >"
   ]
  },
  {
   "cell_type": "markdown",
   "metadata": {},
   "source": [
    "Se tomaron los datos correspondientes a las coordenadas de las señas del cero al diez, con muestras de 5 segundos cada una y con una certeza de mano (el programa está seguro que el objeto en frente es una mano) del 99%. Esto generaba aproximadamente de 20 a 40 datos por cada muestra. Igualmente se tomaron las muestras en diferentes condiciones de luz y con manos de diferentes tamaños (hombres, mujeres, y niños)."
   ]
  },
  {
   "cell_type": "markdown",
   "metadata": {},
   "source": [
    "# 1. Importando las librerias requeridas"
   ]
  },
  {
   "cell_type": "code",
   "execution_count": 10,
   "metadata": {},
   "outputs": [],
   "source": [
    "import pandas as pd\n",
    "import numpy as np\n",
    "from pandas_profiling import ProfileReport\n",
    "\n",
    "from sklearn.pipeline import make_pipeline\n",
    "from sklearn.compose import make_column_transformer\n",
    "from sklearn.preprocessing import MinMaxScaler"
   ]
  },
  {
   "cell_type": "markdown",
   "metadata": {},
   "source": [
    "# 2. Perfilamiento y entendimiento de los datos"
   ]
  },
  {
   "cell_type": "markdown",
   "metadata": {},
   "source": [
    "<img src=\"./Images/Landmarks.png\" >\n",
    "\n",
    "Los datos tal como vienen del programa nos arroja tres coordenadas por cada uno de los landmarks en donde la coordenada x=0 y y=0 son la esquina abajo izquierda de la imágen. El tamaño de la imágen es fija a 640x500 pixeles. Así nuestro rango para la coordenada x y y es de 0 <= x <= 640 y 0 <= y <= 500. La coordenada cero es relativa a un punto intermedio en la pantalla (que se vean todos los puntos centrados en pantalla). A medida que la mano se acerca a la cámara obtenemos valores positivos, y si se aleja nos arroja valores negativos."
   ]
  },
  {
   "cell_type": "code",
   "execution_count": 3,
   "metadata": {},
   "outputs": [],
   "source": [
    "# Importando los datos\n",
    "diccionario = pd.read_csv('./data/diccionario.csv', encoding = \"UTF-8\")\n",
    "data = pd.read_csv('./data/datos.csv', encoding = \"UTF-8\")"
   ]
  },
  {
   "cell_type": "code",
   "execution_count": 4,
   "metadata": {},
   "outputs": [
    {
     "output_type": "execute_result",
     "data": {
      "text/plain": "   Columna                                        Descripción\n0       x0      Coordenada X LM 0 Correspondiente a la muñeca\n1       y0      Coordenada Y LM 0 Correspondiente a la muñeca\n2       z0      Coordenada Z LM 0 Correspondiente a la muñeca\n3       x1   Coordenada X LM 1 Correspondiente al dedo pulgar\n4       y1   Coordenada Y LM 1 Correspondiente al dedo pulgar\n..     ...                                                ...\n59     z19  Coordenada Z LM 19 Correspondiente a la tercer...\n60     x20  Coordenada X LM 20 Correspondiente a la punta ...\n61     y20  Coordenada Y LM 20 Correspondiente a la punta ...\n62     z20  Coordenada Z LM 20 Correspondiente a la punta ...\n63   Clase                                Números del 0 al 11\n\n[64 rows x 2 columns]",
      "text/html": "<div>\n<style scoped>\n    .dataframe tbody tr th:only-of-type {\n        vertical-align: middle;\n    }\n\n    .dataframe tbody tr th {\n        vertical-align: top;\n    }\n\n    .dataframe thead th {\n        text-align: right;\n    }\n</style>\n<table border=\"1\" class=\"dataframe\">\n  <thead>\n    <tr style=\"text-align: right;\">\n      <th></th>\n      <th>Columna</th>\n      <th>Descripción</th>\n    </tr>\n  </thead>\n  <tbody>\n    <tr>\n      <th>0</th>\n      <td>x0</td>\n      <td>Coordenada X LM 0 Correspondiente a la muñeca</td>\n    </tr>\n    <tr>\n      <th>1</th>\n      <td>y0</td>\n      <td>Coordenada Y LM 0 Correspondiente a la muñeca</td>\n    </tr>\n    <tr>\n      <th>2</th>\n      <td>z0</td>\n      <td>Coordenada Z LM 0 Correspondiente a la muñeca</td>\n    </tr>\n    <tr>\n      <th>3</th>\n      <td>x1</td>\n      <td>Coordenada X LM 1 Correspondiente al dedo pulgar</td>\n    </tr>\n    <tr>\n      <th>4</th>\n      <td>y1</td>\n      <td>Coordenada Y LM 1 Correspondiente al dedo pulgar</td>\n    </tr>\n    <tr>\n      <th>...</th>\n      <td>...</td>\n      <td>...</td>\n    </tr>\n    <tr>\n      <th>59</th>\n      <td>z19</td>\n      <td>Coordenada Z LM 19 Correspondiente a la tercer...</td>\n    </tr>\n    <tr>\n      <th>60</th>\n      <td>x20</td>\n      <td>Coordenada X LM 20 Correspondiente a la punta ...</td>\n    </tr>\n    <tr>\n      <th>61</th>\n      <td>y20</td>\n      <td>Coordenada Y LM 20 Correspondiente a la punta ...</td>\n    </tr>\n    <tr>\n      <th>62</th>\n      <td>z20</td>\n      <td>Coordenada Z LM 20 Correspondiente a la punta ...</td>\n    </tr>\n    <tr>\n      <th>63</th>\n      <td>Clase</td>\n      <td>Números del 0 al 11</td>\n    </tr>\n  </tbody>\n</table>\n<p>64 rows × 2 columns</p>\n</div>"
     },
     "metadata": {},
     "execution_count": 4
    }
   ],
   "source": [
    "diccionario"
   ]
  },
  {
   "cell_type": "code",
   "execution_count": 5,
   "metadata": {},
   "outputs": [
    {
     "output_type": "execute_result",
     "data": {
      "text/plain": "          x0         y0       z0         x1         y1       z1         x2  \\\n0  284.92805  350.67788 -0.00093  322.79277  315.33405  8.39052  347.40954   \n1  278.28085  345.40205 -0.00130  318.74006  314.35025  6.34735  346.35429   \n2  276.40025  344.67422 -0.00131  317.00817  313.70587  5.75395  344.34662   \n3  274.34967  343.92245 -0.00131  317.74627  312.19434  7.38592  345.21930   \n4  273.91013  343.22628 -0.00133  320.29775  310.32568  7.56058  349.07755   \n\n          y2        z2         x3  ...        x18        y18      z18  \\\n0  277.24308  11.12329  372.08923  ...  286.79234  172.75314 -6.02986   \n1  277.35317   8.47528  371.35733  ...  291.32571  172.43149 -7.07840   \n2  276.55692   7.94423  366.93927  ...  289.30880  173.07098 -7.00137   \n3  274.20845  10.34781  368.13793  ...  290.49569  170.87830 -5.92087   \n4  272.35242  10.71873  373.16762  ...  291.84546  169.00737 -5.37861   \n\n         x19        y19      z19        x20        y20      z20  clase  \n0  295.90823  144.13841 -4.17843  305.38755  114.55426 -2.41008      0  \n1  299.57190  145.29706 -6.46456  307.54150  116.75922 -6.23263      0  \n2  296.22140  146.44763 -6.53205  303.59922  118.51561 -6.35039      0  \n3  299.04903  143.51583 -5.19691  307.87086  115.32076 -4.96793      0  \n4  299.95371  141.54401 -4.62802  307.74208  113.48242 -4.36697      0  \n\n[5 rows x 64 columns]",
      "text/html": "<div>\n<style scoped>\n    .dataframe tbody tr th:only-of-type {\n        vertical-align: middle;\n    }\n\n    .dataframe tbody tr th {\n        vertical-align: top;\n    }\n\n    .dataframe thead th {\n        text-align: right;\n    }\n</style>\n<table border=\"1\" class=\"dataframe\">\n  <thead>\n    <tr style=\"text-align: right;\">\n      <th></th>\n      <th>x0</th>\n      <th>y0</th>\n      <th>z0</th>\n      <th>x1</th>\n      <th>y1</th>\n      <th>z1</th>\n      <th>x2</th>\n      <th>y2</th>\n      <th>z2</th>\n      <th>x3</th>\n      <th>...</th>\n      <th>x18</th>\n      <th>y18</th>\n      <th>z18</th>\n      <th>x19</th>\n      <th>y19</th>\n      <th>z19</th>\n      <th>x20</th>\n      <th>y20</th>\n      <th>z20</th>\n      <th>clase</th>\n    </tr>\n  </thead>\n  <tbody>\n    <tr>\n      <th>0</th>\n      <td>284.92805</td>\n      <td>350.67788</td>\n      <td>-0.00093</td>\n      <td>322.79277</td>\n      <td>315.33405</td>\n      <td>8.39052</td>\n      <td>347.40954</td>\n      <td>277.24308</td>\n      <td>11.12329</td>\n      <td>372.08923</td>\n      <td>...</td>\n      <td>286.79234</td>\n      <td>172.75314</td>\n      <td>-6.02986</td>\n      <td>295.90823</td>\n      <td>144.13841</td>\n      <td>-4.17843</td>\n      <td>305.38755</td>\n      <td>114.55426</td>\n      <td>-2.41008</td>\n      <td>0</td>\n    </tr>\n    <tr>\n      <th>1</th>\n      <td>278.28085</td>\n      <td>345.40205</td>\n      <td>-0.00130</td>\n      <td>318.74006</td>\n      <td>314.35025</td>\n      <td>6.34735</td>\n      <td>346.35429</td>\n      <td>277.35317</td>\n      <td>8.47528</td>\n      <td>371.35733</td>\n      <td>...</td>\n      <td>291.32571</td>\n      <td>172.43149</td>\n      <td>-7.07840</td>\n      <td>299.57190</td>\n      <td>145.29706</td>\n      <td>-6.46456</td>\n      <td>307.54150</td>\n      <td>116.75922</td>\n      <td>-6.23263</td>\n      <td>0</td>\n    </tr>\n    <tr>\n      <th>2</th>\n      <td>276.40025</td>\n      <td>344.67422</td>\n      <td>-0.00131</td>\n      <td>317.00817</td>\n      <td>313.70587</td>\n      <td>5.75395</td>\n      <td>344.34662</td>\n      <td>276.55692</td>\n      <td>7.94423</td>\n      <td>366.93927</td>\n      <td>...</td>\n      <td>289.30880</td>\n      <td>173.07098</td>\n      <td>-7.00137</td>\n      <td>296.22140</td>\n      <td>146.44763</td>\n      <td>-6.53205</td>\n      <td>303.59922</td>\n      <td>118.51561</td>\n      <td>-6.35039</td>\n      <td>0</td>\n    </tr>\n    <tr>\n      <th>3</th>\n      <td>274.34967</td>\n      <td>343.92245</td>\n      <td>-0.00131</td>\n      <td>317.74627</td>\n      <td>312.19434</td>\n      <td>7.38592</td>\n      <td>345.21930</td>\n      <td>274.20845</td>\n      <td>10.34781</td>\n      <td>368.13793</td>\n      <td>...</td>\n      <td>290.49569</td>\n      <td>170.87830</td>\n      <td>-5.92087</td>\n      <td>299.04903</td>\n      <td>143.51583</td>\n      <td>-5.19691</td>\n      <td>307.87086</td>\n      <td>115.32076</td>\n      <td>-4.96793</td>\n      <td>0</td>\n    </tr>\n    <tr>\n      <th>4</th>\n      <td>273.91013</td>\n      <td>343.22628</td>\n      <td>-0.00133</td>\n      <td>320.29775</td>\n      <td>310.32568</td>\n      <td>7.56058</td>\n      <td>349.07755</td>\n      <td>272.35242</td>\n      <td>10.71873</td>\n      <td>373.16762</td>\n      <td>...</td>\n      <td>291.84546</td>\n      <td>169.00737</td>\n      <td>-5.37861</td>\n      <td>299.95371</td>\n      <td>141.54401</td>\n      <td>-4.62802</td>\n      <td>307.74208</td>\n      <td>113.48242</td>\n      <td>-4.36697</td>\n      <td>0</td>\n    </tr>\n  </tbody>\n</table>\n<p>5 rows × 64 columns</p>\n</div>"
     },
     "metadata": {},
     "execution_count": 5
    }
   ],
   "source": [
    "data.head()"
   ]
  },
  {
   "cell_type": "code",
   "execution_count": 5,
   "metadata": {
    "tags": []
   },
   "outputs": [
    {
     "output_type": "stream",
     "name": "stderr",
     "text": "Summarize dataset: 100%|██████████| 78/78 [09:51<00:00,  7.58s/it, Completed]\nGenerate report structure: 100%|██████████| 1/1 [00:19<00:00, 19.95s/it]\nRender HTML: 100%|██████████| 1/1 [01:57<00:00, 117.25s/it]\nExport report to file: 100%|██████████| 1/1 [00:00<00:00,  2.48it/s]\n"
    }
   ],
   "source": [
    "profile = ProfileReport(data)\n",
    "profile.to_file(\"profile_report.html\")"
   ]
  },
  {
   "cell_type": "markdown",
   "metadata": {},
   "source": []
  },
  {
   "cell_type": "markdown",
   "metadata": {},
   "source": [
    "# 3. Limpieza y preparación de datos"
   ]
  },
  {
   "cell_type": "markdown",
   "metadata": {},
   "source": [
    "## 3.1 Limpieza de datos"
   ]
  },
  {
   "cell_type": "markdown",
   "metadata": {},
   "source": [
    "## 3.2 Preparación de datos"
   ]
  },
  {
   "cell_type": "markdown",
   "metadata": {},
   "source": [
    "Ya que las coordenadas X y Y están dadas en número de pixeles, nos gustaría normalizarlas y escalarlas para que no dependan del tamaño de la imagen."
   ]
  },
  {
   "cell_type": "code",
   "execution_count": 6,
   "metadata": {},
   "outputs": [],
   "source": [
    "X, Y = data.drop(['clase'], axis=1), data['clase']"
   ]
  },
  {
   "cell_type": "code",
   "execution_count": 11,
   "metadata": {},
   "outputs": [],
   "source": [
    "xy_preprocessor = make_pipeline(\n",
    "    MinMaxScaler(feature_range=(0,1))\n",
    ")\n",
    "\n",
    "z_preprocessor = make_pipeline(\n",
    "    MinMaxScaler(feature_range=(-1,1))\n",
    ")\n",
    "\n",
    "x_columns = ('x0','x1','x2','x3','x4','x5','x6','x7','x8','x9','x10','x11','x12','x13','x14','x15','x16','x17','x18','x19','x20')\n",
    "y_columns = ('y0','y1','y2','y3','y4','y5','y6','y7','y8','y9','y10','y11','y12','y13','y14','y15','y16','y17','y18','y19','y20')\n",
    "z_columns = ('z0','z1','z2','z3','z4','z5','z6','z7','z8','z9','z10','z11','z12','z13','z14','z15','z16','z17','z18','z19','z20')\n",
    "\n",
    "preprocessor = make_column_transformer(\n",
    "    (xy_preprocessor, x_columns),\n",
    "    (xy_preprocessor, y_columns),\n",
    "    (z_preprocessor, z_columns),\n",
    "    remainder='passthrough'\n",
    ")"
   ]
  },
  {
   "cell_type": "code",
   "execution_count": 13,
   "metadata": {},
   "outputs": [
    {
     "output_type": "execute_result",
     "data": {
      "text/plain": "array([[ 0.482039  ,  0.49410185,  0.52522703, ...,  0.49236949,\n         0.51663435,  0.50691356],\n       [ 0.46809237,  0.48574191,  0.52314331, ...,  0.47510409,\n         0.48325858,  0.45628311],\n       [ 0.46414664,  0.48216936,  0.5191789 , ...,  0.47637248,\n         0.48227328,  0.45472336],\n       ...,\n       [ 0.26082421,  0.27552138,  0.32476207, ..., -0.40263907,\n        -0.04247391,  0.04034894],\n       [ 0.26197117,  0.28202768,  0.32736341, ..., -0.39158663,\n        -0.03030076,  0.04059152],\n       [ 0.26528878,  0.28034523,  0.32458367, ..., -0.40212098,\n        -0.03701094,  0.04380005]])"
     },
     "metadata": {},
     "execution_count": 13
    }
   ],
   "source": [
    "X_ready = preprocessor.fit_transform(X)\n",
    "X_ready"
   ]
  },
  {
   "cell_type": "markdown",
   "metadata": {},
   "source": [
    "# 4. Modelamiento"
   ]
  },
  {
   "cell_type": "markdown",
   "metadata": {},
   "source": [
    "# 5. Predicción"
   ]
  },
  {
   "cell_type": "markdown",
   "metadata": {},
   "source": [
    "# 6. Validación"
   ]
  }
 ],
 "metadata": {
  "language_info": {
   "codemirror_mode": {
    "name": "ipython",
    "version": 3
   },
   "file_extension": ".py",
   "mimetype": "text/x-python",
   "name": "python",
   "nbconvert_exporter": "python",
   "pygments_lexer": "ipython3",
   "version": "3.7.7-final"
  },
  "orig_nbformat": 2,
  "kernelspec": {
   "name": "python_defaultSpec_1594570759177",
   "display_name": "Python 3.7.7 64-bit ('processing': pipenv)"
  }
 },
 "nbformat": 4,
 "nbformat_minor": 2
}