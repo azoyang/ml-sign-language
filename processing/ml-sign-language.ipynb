{
 "cells": [
  {
   "cell_type": "markdown",
   "metadata": {},
   "source": [
    "<img src=\"https://cursos.virtual.uniandes.edu.co/isis4219/wp-content/uploads/sites/162/2014/11/cropped-misisheader.png\" ><br>\n",
    "# Machine Learning Techniques - ISIS4219\n",
    "\n",
    "Intersemestral 2020\n",
    "\n",
    "## Proyecto lenguaje de señas\n",
    "\n",
    "### Integrantes:\n",
    "* Daisy Tatiana Macias\n",
    "* Dayana Romero\n",
    "* Juan José Villegas\n",
    "* Juan Sebastián Méndez"
   ]
  },
  {
   "cell_type": "markdown",
   "metadata": {},
   "source": [
    "# 1. Importando las librerias requeridas"
   ]
  },
  {
   "cell_type": "code",
   "execution_count": 1,
   "metadata": {},
   "outputs": [],
   "source": [
    "import pandas as pd\n",
    "import numpy as np\n",
    "from pandas_profiling import ProfileReport"
   ]
  },
  {
   "cell_type": "markdown",
   "metadata": {},
   "source": [
    "# 2. Perfilamiento y entendimiento de los datos"
   ]
  },
  {
   "cell_type": "markdown",
   "metadata": {},
   "source": [
    "<img src=\"./Images/Landmarks.png\" >"
   ]
  },
  {
   "cell_type": "code",
   "execution_count": 4,
   "metadata": {},
   "outputs": [],
   "source": [
    "#Importando los datos\n",
    "diccionario = pd.read_csv('./data/diccionario.csv', encoding = \"UTF-8\")\n",
    "#data = pd.read_csv('./data/datos.csv', encoding = \"ISO-8859-1\")"
   ]
  },
  {
   "cell_type": "code",
   "execution_count": 5,
   "metadata": {},
   "outputs": [
    {
     "output_type": "execute_result",
     "data": {
      "text/plain": "   Columna                                        Descripción\n0       x0      Coordenada X LM 0 Correspondiente a la muñeca\n1       y0      Coordenada Y LM 0 Correspondiente a la muñeca\n2       z0      Coordenada Z LM 0 Correspondiente a la muñeca\n3       x1   Coordenada X LM 1 Correspondiente al dedo pulgar\n4       y1   Coordenada Y LM 1 Correspondiente al dedo pulgar\n..     ...                                                ...\n59     z19  Coordenada Z LM 19 Correspondiente a la tercer...\n60     x20  Coordenada X LM 20 Correspondiente a la punta ...\n61     y20  Coordenada Y LM 20 Correspondiente a la punta ...\n62     z20  Coordenada Z LM 20 Correspondiente a la punta ...\n63   Clase                                Números del 0 al 11\n\n[64 rows x 2 columns]",
      "text/html": "<div>\n<style scoped>\n    .dataframe tbody tr th:only-of-type {\n        vertical-align: middle;\n    }\n\n    .dataframe tbody tr th {\n        vertical-align: top;\n    }\n\n    .dataframe thead th {\n        text-align: right;\n    }\n</style>\n<table border=\"1\" class=\"dataframe\">\n  <thead>\n    <tr style=\"text-align: right;\">\n      <th></th>\n      <th>Columna</th>\n      <th>Descripción</th>\n    </tr>\n  </thead>\n  <tbody>\n    <tr>\n      <th>0</th>\n      <td>x0</td>\n      <td>Coordenada X LM 0 Correspondiente a la muñeca</td>\n    </tr>\n    <tr>\n      <th>1</th>\n      <td>y0</td>\n      <td>Coordenada Y LM 0 Correspondiente a la muñeca</td>\n    </tr>\n    <tr>\n      <th>2</th>\n      <td>z0</td>\n      <td>Coordenada Z LM 0 Correspondiente a la muñeca</td>\n    </tr>\n    <tr>\n      <th>3</th>\n      <td>x1</td>\n      <td>Coordenada X LM 1 Correspondiente al dedo pulgar</td>\n    </tr>\n    <tr>\n      <th>4</th>\n      <td>y1</td>\n      <td>Coordenada Y LM 1 Correspondiente al dedo pulgar</td>\n    </tr>\n    <tr>\n      <th>...</th>\n      <td>...</td>\n      <td>...</td>\n    </tr>\n    <tr>\n      <th>59</th>\n      <td>z19</td>\n      <td>Coordenada Z LM 19 Correspondiente a la tercer...</td>\n    </tr>\n    <tr>\n      <th>60</th>\n      <td>x20</td>\n      <td>Coordenada X LM 20 Correspondiente a la punta ...</td>\n    </tr>\n    <tr>\n      <th>61</th>\n      <td>y20</td>\n      <td>Coordenada Y LM 20 Correspondiente a la punta ...</td>\n    </tr>\n    <tr>\n      <th>62</th>\n      <td>z20</td>\n      <td>Coordenada Z LM 20 Correspondiente a la punta ...</td>\n    </tr>\n    <tr>\n      <th>63</th>\n      <td>Clase</td>\n      <td>Números del 0 al 11</td>\n    </tr>\n  </tbody>\n</table>\n<p>64 rows × 2 columns</p>\n</div>"
     },
     "metadata": {},
     "execution_count": 5
    }
   ],
   "source": [
    "diccionario"
   ]
  },
  {
   "cell_type": "markdown",
   "metadata": {},
   "source": [
    "# 3. Limpieza y preparación de datos"
   ]
  },
  {
   "cell_type": "markdown",
   "metadata": {},
   "source": [
    "## 3.1 Limpieza de datos"
   ]
  },
  {
   "cell_type": "markdown",
   "metadata": {},
   "source": [
    "## 3.2 Preparación de datos"
   ]
  },
  {
   "cell_type": "markdown",
   "metadata": {},
   "source": [
    "# 4. Modelamiento"
   ]
  },
  {
   "cell_type": "markdown",
   "metadata": {},
   "source": [
    "# 5. Predicción"
   ]
  },
  {
   "cell_type": "markdown",
   "metadata": {},
   "source": [
    "# 6. Validación"
   ]
  }
 ],
 "metadata": {
  "language_info": {
   "codemirror_mode": {
    "name": "ipython",
    "version": 3
   },
   "file_extension": ".py",
   "mimetype": "text/x-python",
   "name": "python",
   "nbconvert_exporter": "python",
   "pygments_lexer": "ipython3",
   "version": "3.7.7-final"
  },
  "orig_nbformat": 2,
  "kernelspec": {
   "name": "python_defaultSpec_1594400576002",
   "display_name": "Python 3.7.7 64-bit ('processing': pipenv)"
  }
 },
 "nbformat": 4,
 "nbformat_minor": 2
}